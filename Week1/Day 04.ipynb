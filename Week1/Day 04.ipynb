{
 "cells": [
  {
   "cell_type": "markdown",
   "id": "af82172b-71ba-4ef2-b78b-2f986a129ff5",
   "metadata": {},
   "source": [
    "# Day 04"
   ]
  },
  {
   "cell_type": "markdown",
   "id": "c4ebe6d2-5046-40c9-94cf-8e256bc673e0",
   "metadata": {},
   "source": [
    "## task1- Write code for calculator with all 7 operators + - * / % // ** using if elif else "
   ]
  },
  {
   "cell_type": "code",
   "execution_count": 12,
   "id": "ab011721-226e-4a6d-9c83-c662c3cb1606",
   "metadata": {},
   "outputs": [
    {
     "name": "stdin",
     "output_type": "stream",
     "text": [
      "Enter first number:  23\n",
      "Enter second number:  5\n",
      "Enter operator (+, -, *, /, %, //, **):  %\n"
     ]
    },
    {
     "name": "stdout",
     "output_type": "stream",
     "text": [
      "Result: 3.0\n"
     ]
    }
   ],
   "source": [
    "\n",
    "a = float(input(\"Enter first number: \"))\n",
    "b = float(input(\"Enter second number: \"))\n",
    "op = input(\"Enter operator (+, -, *, /, %, //, **): \")\n",
    "\n",
    "if op == '+':\n",
    "    print(\"Result:\", a + b)\n",
    "elif op == '-':\n",
    "    print(\"Result:\", a - b)\n",
    "elif op == '*':\n",
    "    print(\"Result:\", a * b)\n",
    "elif op == '/':\n",
    "    print(\"Result:\", a / b)\n",
    "elif op == '%':\n",
    "    print(\"Result:\", a % b)\n",
    "elif op == '//':\n",
    "    print(\"Result:\", a // b)\n",
    "elif op == '**':\n",
    "    print(\"Result:\", a ** b)\n",
    "else:\n",
    "    print(\"Invalid operator\")"
   ]
  },
  {
   "cell_type": "markdown",
   "id": "1e50194d-1d2e-4341-aca1-d1f5a40f6924",
   "metadata": {},
   "source": [
    "## task2-for loop using tuple , dictionary , set"
   ]
  },
  {
   "cell_type": "code",
   "execution_count": 2,
   "id": "1ca6f51e-7862-4787-bbf7-ec18976050c4",
   "metadata": {},
   "outputs": [
    {
     "name": "stdout",
     "output_type": "stream",
     "text": [
      "10\n",
      "20\n",
      "30\n",
      "a 1\n",
      "b 2\n",
      "c 3\n",
      "200\n",
      "100\n",
      "300\n"
     ]
    }
   ],
   "source": [
    " \n",
    "# Tuple\n",
    "t = (10, 20, 30)\n",
    "for i in t:\n",
    "    print(i)\n",
    "\n",
    "# Dictionary\n",
    "d = {\"a\": 1, \"b\": 2, \"c\": 3}\n",
    "for key in d:\n",
    "    print(key, d[key])\n",
    "\n",
    "# Set\n",
    "s = {100, 200, 300}\n",
    "for item in s:\n",
    "    print(item)"
   ]
  },
  {
   "cell_type": "markdown",
   "id": "ff6e5673-226e-4669-a0a7-4f575897f924",
   "metadata": {},
   "source": [
    "## task3-design calculator using structural pattern matching\n"
   ]
  },
  {
   "cell_type": "code",
   "execution_count": null,
   "id": "02ed1f1c-9f96-4cab-8f4c-27b63304c4a4",
   "metadata": {},
   "outputs": [],
   "source": [
    "\n",
    "a = float(input(\"Enter first number: \"))\n",
    "b = float(input(\"Enter second number: \"))\n",
    "op = input(\"Enter operator (+, -, *, /, %, //, **): \")\n",
    "\n",
    "match op:\n",
    "    case '+':\n",
    "        print(\"Result:\", a + b)\n",
    "    case '-':\n",
    "        print(\"Result:\", a - b)\n",
    "    case '*':\n",
    "        print(\"Result:\", a * b)\n",
    "    case '/':\n",
    "        print(\"Result:\", a / b)\n",
    "    case '%':\n",
    "        print(\"Result:\", a % b)\n",
    "    case '//':\n",
    "        print(\"Result:\", a // b)\n",
    "    case '**':\n",
    "        print(\"Result:\", a ** b)\n",
    "    case _:\n",
    "        print(\"Invalid operator\")"
   ]
  },
  {
   "cell_type": "markdown",
   "id": "c7c4ad43-4f20-4cf7-a06d-8b8a2d618d47",
   "metadata": {},
   "source": [
    "## task4-write file concept commands"
   ]
  },
  {
   "cell_type": "code",
   "execution_count": 11,
   "id": "58197cc5-1f21-4613-90ef-180957b2223d",
   "metadata": {},
   "outputs": [
    {
     "name": "stdout",
     "output_type": "stream",
     "text": [
      "Current file pointer position: 20\n",
      "demofile.txt removed.\n",
      "Does tesht.txt exist? False\n",
      "test1.txt created successfully.\n",
      "tesdt.txt created successfully.\n",
      "h.txt created successfully.\n",
      "E_drive_h.txt created successfully.\n",
      "Linux/Mac test.txt not found.\n"
     ]
    }
   ],
   "source": [
    "import os\n",
    "\n",
    "# 1. Open file in write mode\n",
    "f = open(\"example.txt\", \"w\")\n",
    "\n",
    "# 2. Write to file\n",
    "f.write(\"Hello, file world!\\n\")\n",
    "\n",
    "# 3. Tell current position\n",
    "print(\"Current file pointer position:\", f.tell())\n",
    "\n",
    "# 4. Close file\n",
    "f.close()\n",
    "\n",
    "# 5. Open file in binary write mode\n",
    "fo = open(\"foo.txt\", \"wb\")\n",
    "fo.write(b\"Python is a great language.\\nYeah it's great!!\\n\")\n",
    "fo.close()\n",
    "\n",
    "# 6. Create and then remove a dummy file\n",
    "with open(\"demofile.txt\", \"w\") as temp:\n",
    "    temp.write(\"Temporary file for deletion.\\n\")\n",
    "\n",
    "if os.path.exists(\"demofile.txt\"):\n",
    "    os.remove(\"demofile.txt\")\n",
    "    print(\"demofile.txt removed.\")\n",
    "else:\n",
    "    print(\"demofile.txt not found.\")\n",
    "\n",
    "# 7. Check if another file exists\n",
    "print(\"Does tesht.txt exist?\", os.path.exists(\"tesht.txt\"))\n",
    "\n",
    "# 8. Open file in append mode\n",
    "file2 = open(\"llcog.txt\", \"a+\")\n",
    "file2.write(\"3rd line\\nFourth line\\n\")\n",
    "file2.close()\n",
    "\n",
    "# 9. Open files from other directories\n",
    "paths = [\n",
    "    \"test1.txt\",\n",
    "    \"tesdt.txt\",\n",
    "    \"h.txt\",\n",
    "    \"E_drive_h.txt\"\n",
    "]\n",
    "\n",
    "for path in paths:\n",
    "    try:\n",
    "        with open(path, \"w+\") as f:\n",
    "            f.write(f\"Creating {path}\\n\")\n",
    "        print(f\"{path} created successfully.\")\n",
    "    except Exception as e:\n",
    "        print(f\"Error creating {path}:\", e)\n",
    "\n",
    "# 10. Path access\n",
    "try:\n",
    "    with open(\"/users/userName/folder/test.txt\", \"r\") as myfile:\n",
    "        print(\"Opened test.txt on Linux/Mac.\")\n",
    "except FileNotFoundError:\n",
    "    print(\"Linux/Mac test.txt not found.\")\n"
   ]
  }
 ],
 "metadata": {
  "kernelspec": {
   "display_name": "Python 3 (ipykernel)",
   "language": "python",
   "name": "python3"
  },
  "language_info": {
   "codemirror_mode": {
    "name": "ipython",
    "version": 3
   },
   "file_extension": ".py",
   "mimetype": "text/x-python",
   "name": "python",
   "nbconvert_exporter": "python",
   "pygments_lexer": "ipython3",
   "version": "3.13.7"
  }
 },
 "nbformat": 4,
 "nbformat_minor": 5
}
