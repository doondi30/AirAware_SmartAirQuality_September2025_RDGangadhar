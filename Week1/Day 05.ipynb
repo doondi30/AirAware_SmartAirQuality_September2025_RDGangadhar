{
 "cells": [
  {
   "cell_type": "markdown",
   "id": "0028b978-72ad-4b98-a61b-db9b95ba6240",
   "metadata": {},
   "source": [
    "# Day 5"
   ]
  },
  {
   "cell_type": "markdown",
   "id": "28631c31-d65d-4bef-b5b8-c5cdee131dd8",
   "metadata": {},
   "source": [
    "## Task1: Do fibonacci & factorial of a number using recursive functions"
   ]
  },
  {
   "cell_type": "code",
   "execution_count": 1,
   "id": "947394d0-8676-4bc4-8408-449c9f27fc06",
   "metadata": {},
   "outputs": [
    {
     "name": "stdout",
     "output_type": "stream",
     "text": [
      "Fibonacci of 5: 5\n"
     ]
    }
   ],
   "source": [
    "def fibonacci(n):\n",
    "    if n <= 1:\n",
    "        return n\n",
    "    return fibonacci(n-1) + fibonacci(n-2)\n",
    "print(\"Fibonacci of 5:\", fibonacci(5))"
   ]
  },
  {
   "cell_type": "code",
   "execution_count": 2,
   "id": "656fb5cf-3070-43cc-98fc-d4d0410978a6",
   "metadata": {},
   "outputs": [
    {
     "name": "stdout",
     "output_type": "stream",
     "text": [
      "Factorial of 5: 120\n"
     ]
    }
   ],
   "source": [
    "def factorial(n):\n",
    "    if n == 0:\n",
    "        return 1\n",
    "    return n * factorial(n-1)\n",
    "print(\"Factorial of 5:\", factorial(5))"
   ]
  },
  {
   "cell_type": "markdown",
   "id": "6ef20d5f-3744-49ad-9664-5e5dfb7be87f",
   "metadata": {},
   "source": [
    "## Task 2: Game for module os random math"
   ]
  },
  {
   "cell_type": "code",
   "execution_count": 4,
   "id": "2e38e606-b7ed-4e6a-b4ae-d80c6d124619",
   "metadata": {},
   "outputs": [
    {
     "name": "stdout",
     "output_type": "stream",
     "text": [
      "Guess the character!\n",
      "Hint: Teen with spider powers\n"
     ]
    },
    {
     "name": "stdin",
     "output_type": "stream",
     "text": [
      "Your guess:  spiderman\n"
     ]
    },
    {
     "name": "stdout",
     "output_type": "stream",
     "text": [
      "Correct!\n"
     ]
    }
   ],
   "source": [
    "import os\n",
    "import random\n",
    "\n",
    "def clear():\n",
    "    os.system('cls' if os.name == 'nt' else 'clear')\n",
    "\n",
    "def guess_character():\n",
    "    characters = {\n",
    "        \"Iron Man\": \"Genius billionaire in a metal suit\",\n",
    "        \"Sherlock Holmes\": \"Detective with sharp reasoning\",\n",
    "        \"Harry Potter\": \"Wizard with a lightning scar\",\n",
    "        \"Batman\": \"Dark knight of Gotham\",\n",
    "        \"Spiderman\": \"Teen with spider powers\"\n",
    "    }\n",
    "\n",
    "    name = random.choice(list(characters.keys()))\n",
    "    hint = characters[name]\n",
    "\n",
    "    clear()\n",
    "    print(\"Guess the character!\")\n",
    "    print(\"Hint:\", hint)\n",
    "    guess = input(\"Your guess: \")\n",
    "\n",
    "    if guess.lower() == name.lower():\n",
    "        print(\"Correct!\")\n",
    "    else:\n",
    "        print(\"Wrong! It was\", name)\n",
    "\n",
    "guess_character()\n"
   ]
  },
  {
   "cell_type": "markdown",
   "id": "566e0518-e074-4442-a71b-742cb2157cfb",
   "metadata": {},
   "source": [
    "## Task3: list, tuple & dictionary comprehensions. runtime arguments with *args **kwargs"
   ]
  },
  {
   "cell_type": "code",
   "execution_count": 5,
   "id": "f9e98c54-a011-4ad5-8d36-5e14d4e5f62d",
   "metadata": {},
   "outputs": [
    {
     "name": "stdout",
     "output_type": "stream",
     "text": [
      "List: [0, 1, 4, 9, 16]\n",
      "Tuple: (0, 1, 8, 27, 64)\n",
      "Dictionary: {0: 0, 1: 1, 2: 4, 3: 9, 4: 16}\n"
     ]
    }
   ],
   "source": [
    "# List comprehension: squares of numbers\n",
    "squares = [x**2 for x in range(5)]\n",
    "print(\"List:\", squares)\n",
    "\n",
    "# Tuple comprehension (via generator, then converted to tuple)\n",
    "cubes = tuple(x**3 for x in range(5))\n",
    "print(\"Tuple:\", cubes)\n",
    "\n",
    "# Dictionary comprehension: number and its square\n",
    "square_dict = {x: x**2 for x in range(5)}\n",
    "print(\"Dictionary:\", square_dict)"
   ]
  },
  {
   "cell_type": "markdown",
   "id": "c620186f-b7c9-4a25-af10-2bbb63879ebc",
   "metadata": {},
   "source": [
    "## Runtime Arguments with *args and **kwargs"
   ]
  },
  {
   "cell_type": "code",
   "execution_count": 6,
   "id": "62e1ba13-90d6-41d7-b962-a3c0c350c115",
   "metadata": {},
   "outputs": [
    {
     "name": "stdout",
     "output_type": "stream",
     "text": [
      "Sum: 12\n",
      "name: Alice\n",
      "age: 25\n",
      "city: Mumbai\n"
     ]
    }
   ],
   "source": [
    "# *args: variable number of positional arguments\n",
    "def add_numbers(*args):\n",
    "    return sum(args)\n",
    "\n",
    "print(\"Sum:\", add_numbers(2, 4, 6))\n",
    "\n",
    "# **kwargs: variable number of keyword arguments\n",
    "def print_info(**kwargs):\n",
    "    for key, value in kwargs.items():\n",
    "        print(f\"{key}: {value}\")\n",
    "\n",
    "print_info(name=\"Alice\", age=25, city=\"Mumbai\")"
   ]
  },
  {
   "cell_type": "code",
   "execution_count": null,
   "id": "17622b12-04d3-4915-bc68-449bbdf8b7fb",
   "metadata": {},
   "outputs": [],
   "source": []
  }
 ],
 "metadata": {
  "kernelspec": {
   "display_name": "Python 3 (ipykernel)",
   "language": "python",
   "name": "python3"
  },
  "language_info": {
   "codemirror_mode": {
    "name": "ipython",
    "version": 3
   },
   "file_extension": ".py",
   "mimetype": "text/x-python",
   "name": "python",
   "nbconvert_exporter": "python",
   "pygments_lexer": "ipython3",
   "version": "3.13.7"
  }
 },
 "nbformat": 4,
 "nbformat_minor": 5
}
