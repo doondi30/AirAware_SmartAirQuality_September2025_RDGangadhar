{
 "cells": [
  {
   "cell_type": "markdown",
   "id": "3ca9b351-8cce-49b2-83f5-02b2e6154fa2",
   "metadata": {},
   "source": [
    "## task1 : design a calculator using oops concepts"
   ]
  },
  {
   "cell_type": "code",
   "execution_count": 1,
   "id": "27e112b2-fb21-4133-93a3-a5275ae1d691",
   "metadata": {},
   "outputs": [
    {
     "name": "stdout",
     "output_type": "stream",
     "text": [
      "15\n",
      "5\n",
      "50\n",
      "2.0\n",
      "8\n",
      "1\n"
     ]
    }
   ],
   "source": [
    "class Calculator:\n",
    "    def __init__(self):\n",
    "        self.result = 0\n",
    "\n",
    "    def add(self, a, b):\n",
    "        self.result = a + b\n",
    "        return self.result\n",
    "\n",
    "    def subtract(self, a, b):\n",
    "        self.result = a - b\n",
    "        return self.result\n",
    "\n",
    "    def multiply(self, a, b):\n",
    "        self.result = a * b\n",
    "        return self.result\n",
    "\n",
    "    def divide(self, a, b):\n",
    "        if b != 0:\n",
    "            self.result = a / b\n",
    "            return self.result\n",
    "        else:\n",
    "            return \"Error: Division by zero\"\n",
    "\n",
    "    def power(self, a, b):\n",
    "        self.result = a ** b\n",
    "        return self.result\n",
    "\n",
    "    def modulus(self, a, b):\n",
    "        self.result = a % b\n",
    "        return self.result\n",
    "\n",
    "calc = Calculator()\n",
    "print(calc.add(10, 5))\n",
    "print(calc.subtract(10, 5))\n",
    "print(calc.multiply(10, 5))\n",
    "print(calc.divide(10, 5))\n",
    "print(calc.power(2, 3))\n",
    "print(calc.modulus(10, 3))"
   ]
  },
  {
   "cell_type": "markdown",
   "id": "36d1a3ed-f7bf-401e-a088-41c06c01e6e2",
   "metadata": {},
   "source": [
    "## task2: write code for multiple, multilevel, hierarchical,hybrid"
   ]
  },
  {
   "cell_type": "markdown",
   "id": "8e1bb99e-ec37-44c8-8331-c313b54a2342",
   "metadata": {},
   "source": [
    "## Multiple Inheritance"
   ]
  },
  {
   "cell_type": "code",
   "execution_count": 2,
   "id": "a02810c3-ad8d-49c2-ab6e-04438da0fd26",
   "metadata": {},
   "outputs": [
    {
     "name": "stdout",
     "output_type": "stream",
     "text": [
      "15\n",
      "5\n"
     ]
    }
   ],
   "source": [
    "class Addition:\n",
    "    def add(self, a, b):\n",
    "        return a + b\n",
    "\n",
    "class Subtraction:\n",
    "    def subtract(self, a, b):\n",
    "        return a - b\n",
    "\n",
    "class Calculator(Addition, Subtraction):\n",
    "    pass\n",
    "\n",
    "calc = Calculator()\n",
    "print(calc.add(10, 5))\n",
    "print(calc.subtract(10, 5))\n"
   ]
  },
  {
   "cell_type": "markdown",
   "id": "0e7ddd94-33d5-4716-9311-8dde6b9f1898",
   "metadata": {},
   "source": [
    "## Multilevel Inheritance"
   ]
  },
  {
   "cell_type": "code",
   "execution_count": 3,
   "id": "488f4f26-5697-4be3-9669-c0c941d7117d",
   "metadata": {},
   "outputs": [
    {
     "name": "stdout",
     "output_type": "stream",
     "text": [
      "Hello from Base\n",
      "Welcome from Intermediate\n",
      "Message from Derived\n"
     ]
    }
   ],
   "source": [
    "class Base:\n",
    "    def greet(self):\n",
    "        return \"Hello from Base\"\n",
    "\n",
    "class Intermediate(Base):\n",
    "    def welcome(self):\n",
    "        return \"Welcome from Intermediate\"\n",
    "\n",
    "class Derived(Intermediate):\n",
    "    def message(self):\n",
    "        return \"Message from Derived\"\n",
    "\n",
    "obj = Derived()\n",
    "print(obj.greet())\n",
    "print(obj.welcome())\n",
    "print(obj.message())\n"
   ]
  },
  {
   "cell_type": "markdown",
   "id": "9534ae22-f962-4783-8b41-360abfa10402",
   "metadata": {},
   "source": [
    "## Hierarchical Inheritance"
   ]
  },
  {
   "cell_type": "code",
   "execution_count": 4,
   "id": "cdec0494-7092-4542-a78d-5f4ebeb112cb",
   "metadata": {},
   "outputs": [
    {
     "name": "stdout",
     "output_type": "stream",
     "text": [
      "Parent method\n",
      "ChildOne method\n",
      "Parent method\n",
      "ChildTwo method\n"
     ]
    }
   ],
   "source": [
    "class Parent:\n",
    "    def show(self):\n",
    "        return \"Parent method\"\n",
    "\n",
    "class ChildOne(Parent):\n",
    "    def child_one_method(self):\n",
    "        return \"ChildOne method\"\n",
    "\n",
    "class ChildTwo(Parent):\n",
    "    def child_two_method(self):\n",
    "        return \"ChildTwo method\"\n",
    "\n",
    "c1 = ChildOne()\n",
    "c2 = ChildTwo()\n",
    "print(c1.show())\n",
    "print(c1.child_one_method())\n",
    "print(c2.show())\n",
    "print(c2.child_two_method())\n"
   ]
  },
  {
   "cell_type": "markdown",
   "id": "413c50a8-1f21-4688-9472-863805fa39d9",
   "metadata": {},
   "source": [
    "## Hybrid Inheritance"
   ]
  },
  {
   "cell_type": "code",
   "execution_count": 5,
   "id": "b101e0aa-2727-42e7-9a8f-3578df44843d",
   "metadata": {},
   "outputs": [
    {
     "name": "stdout",
     "output_type": "stream",
     "text": [
      "Method from A\n",
      "Method from B\n",
      "Method from C\n",
      "Method from D\n"
     ]
    }
   ],
   "source": [
    "class A:\n",
    "    def method_a(self):\n",
    "        return \"Method from A\"\n",
    "\n",
    "class B(A):\n",
    "    def method_b(self):\n",
    "        return \"Method from B\"\n",
    "\n",
    "class C(A):\n",
    "    def method_c(self):\n",
    "        return \"Method from C\"\n",
    "\n",
    "class D(B, C):\n",
    "    def method_d(self):\n",
    "        return \"Method from D\"\n",
    "\n",
    "obj = D()\n",
    "print(obj.method_a())\n",
    "print(obj.method_b())\n",
    "print(obj.method_c())\n",
    "print(obj.method_d())\n"
   ]
  },
  {
   "cell_type": "markdown",
   "id": "6e93d101-354c-455e-8083-01a7d9ff9ed7",
   "metadata": {},
   "source": [
    "## task3: write code for over riding & overloading"
   ]
  },
  {
   "cell_type": "markdown",
   "id": "bbdd9221-f9b4-47cc-9e8b-8a758bf2aebb",
   "metadata": {},
   "source": [
    "## Method Overriding"
   ]
  },
  {
   "cell_type": "code",
   "execution_count": 6,
   "id": "643879b9-f6c9-43e8-95b0-6846c492855c",
   "metadata": {},
   "outputs": [
    {
     "name": "stdout",
     "output_type": "stream",
     "text": [
      "Animal speaks\n",
      "Dog barks\n"
     ]
    }
   ],
   "source": [
    "class Animal:\n",
    "    def speak(self):\n",
    "        return \"Animal speaks\"\n",
    "\n",
    "class Dog(Animal):\n",
    "    def speak(self):\n",
    "        return \"Dog barks\"\n",
    "\n",
    "a = Animal()\n",
    "d = Dog()\n",
    "print(a.speak())\n",
    "print(d.speak())\n"
   ]
  },
  {
   "cell_type": "markdown",
   "id": "59ff0943-120f-4795-bc98-13b7eeff73c8",
   "metadata": {},
   "source": [
    "## Method Overloading"
   ]
  },
  {
   "cell_type": "code",
   "execution_count": 7,
   "id": "5d8abefd-60d3-4348-9233-0c359bd2d45e",
   "metadata": {},
   "outputs": [
    {
     "name": "stdout",
     "output_type": "stream",
     "text": [
      "25\n",
      "15\n"
     ]
    }
   ],
   "source": [
    "class Calculator:\n",
    "    def multiply(self, a, b=None):\n",
    "        if b is not None:\n",
    "            return a * b\n",
    "        else:\n",
    "            return a * a\n",
    "\n",
    "calc = Calculator()\n",
    "print(calc.multiply(5))      # Single argument: returns square\n",
    "print(calc.multiply(5, 3))   # Two arguments: returns product\n"
   ]
  }
 ],
 "metadata": {
  "kernelspec": {
   "display_name": "Python 3 (ipykernel)",
   "language": "python",
   "name": "python3"
  },
  "language_info": {
   "codemirror_mode": {
    "name": "ipython",
    "version": 3
   },
   "file_extension": ".py",
   "mimetype": "text/x-python",
   "name": "python",
   "nbconvert_exporter": "python",
   "pygments_lexer": "ipython3",
   "version": "3.13.7"
  }
 },
 "nbformat": 4,
 "nbformat_minor": 5
}
