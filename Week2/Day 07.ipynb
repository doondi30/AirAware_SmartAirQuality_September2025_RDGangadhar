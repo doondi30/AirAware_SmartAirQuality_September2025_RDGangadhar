{
 "cells": [
  {
   "cell_type": "markdown",
   "id": "f9488310-7c4f-479c-b622-571b152f375d",
   "metadata": {},
   "source": [
    "## BMI Calculator Code (With Loop & Error Handling)"
   ]
  },
  {
   "cell_type": "code",
   "execution_count": 3,
   "id": "1889b039-cae1-4bce-99e4-56d3ce8779ba",
   "metadata": {},
   "outputs": [
    {
     "name": "stdin",
     "output_type": "stream",
     "text": [
      "Enter your height in meters:  1.98\n",
      "Enter your weight in kilograms:  63\n"
     ]
    },
    {
     "name": "stdout",
     "output_type": "stream",
     "text": [
      "\n",
      "Your BMI is: 16.07\n",
      "Category: Underweight\n"
     ]
    },
    {
     "name": "stdin",
     "output_type": "stream",
     "text": [
      "\n",
      "Would you like to calculate again? (yes/no):  no\n"
     ]
    }
   ],
   "source": [
    "while True:\n",
    "    try:\n",
    "        height = float(input(\"Enter your height in meters: \"))\n",
    "        weight = float(input(\"Enter your weight in kilograms: \"))\n",
    "\n",
    "        if height <= 0 or weight <= 0:\n",
    "            print(\"Height and weight must be positive numbers.\\n\")\n",
    "            continue\n",
    "\n",
    "        bmi = weight / (height ** 2)\n",
    "        print(f\"\\nYour BMI is: {bmi:.2f}\")\n",
    "\n",
    "        if bmi < 18.5:\n",
    "            print(\"Category: Underweight\")\n",
    "        elif 18.5 <= bmi < 24.9:\n",
    "            print(\"Category: Normal weight\")\n",
    "        elif 25 <= bmi < 29.9:\n",
    "            print(\"Category: Overweight\")\n",
    "        else:\n",
    "            print(\"Category: Obese\")\n",
    "\n",
    "    except ValueError:\n",
    "        print(\"Invalid input. Please enter numeric values.\\n\")\n",
    "        continue\n",
    "\n",
    "    again = input(\"\\nWould you like to calculate again? (yes/no): \").strip().lower()\n",
    "    if again != \"yes\":\n",
    "        break\n"
   ]
  },
  {
   "cell_type": "code",
   "execution_count": null,
   "id": "41edf747-7bb0-4dd3-a81c-7ac389c95d68",
   "metadata": {},
   "outputs": [],
   "source": [
    "## BMI Calculator Code (With numpy)"
   ]
  },
  {
   "cell_type": "code",
   "execution_count": 1,
   "id": "093ba16d-cd7c-43d8-a9c4-03b7793d168e",
   "metadata": {},
   "outputs": [
    {
     "name": "stdout",
     "output_type": "stream",
     "text": [
      "Your BMI is: 22.20\n",
      "Category: Normal weight\n"
     ]
    }
   ],
   "source": [
    "import numpy as np\n",
    "\n",
    "height = np.array(1.75)  # in meters\n",
    "weight = np.array(68)    # in kilograms\n",
    "\n",
    "bmi = weight / np.power(height, 2)\n",
    "print(f\"Your BMI is: {bmi:.2f}\")\n",
    "\n",
    "if bmi < 18.5:\n",
    "    print(\"Category: Underweight\")\n",
    "elif 18.5 <= bmi < 24.9:\n",
    "    print(\"Category: Normal weight\")\n",
    "elif 25 <= bmi < 29.9:\n",
    "    print(\"Category: Overweight\")\n",
    "else:\n",
    "    print(\"Category: Obese\")"
   ]
  },
  {
   "cell_type": "code",
   "execution_count": null,
   "id": "0bb1d2ca-3497-4284-a3cb-2348333e9dca",
   "metadata": {},
   "outputs": [],
   "source": []
  }
 ],
 "metadata": {
  "kernelspec": {
   "display_name": "Python 3 (ipykernel)",
   "language": "python",
   "name": "python3"
  },
  "language_info": {
   "codemirror_mode": {
    "name": "ipython",
    "version": 3
   },
   "file_extension": ".py",
   "mimetype": "text/x-python",
   "name": "python",
   "nbconvert_exporter": "python",
   "pygments_lexer": "ipython3",
   "version": "3.13.7"
  }
 },
 "nbformat": 4,
 "nbformat_minor": 5
}
