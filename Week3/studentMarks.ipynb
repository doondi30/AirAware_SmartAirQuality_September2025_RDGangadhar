{
 "cells": [
  {
   "cell_type": "markdown",
   "id": "b358a72f-3876-4219-9e48-2676368ca289",
   "metadata": {},
   "source": [
    "# Task: Student Marks Program\n",
    "\n",
    "## 1. Connect and Setup Database\n",
    "- Connects to `schoolweekend.db`\n",
    "- Creates the `student2` table if it doesn’t exist, with `name` and `marks` fields.\n",
    "\n",
    "## 2. Display Menu and Take User Choice\n",
    "- Shows options to **Add**, **Modify**, **Delete**, **Show all student details**, or **Exit**.\n",
    "- Continues to prompt user until they choose to exit (option 5).\n",
    "\n",
    "## 3. Save Changes and Exit\n",
    "- Saves all changes after each operation using `commit()`.\n",
    "- Closes the database connection when the user chooses to exit."
   ]
  },
  {
   "cell_type": "code",
   "execution_count": null,
   "id": "0b902bf9-27a2-4750-a64e-304ae0436a12",
   "metadata": {},
   "outputs": [
    {
     "name": "stdout",
     "output_type": "stream",
     "text": [
      "\n",
      "Choose an option:\n",
      "1. Add student details\n",
      "2. Modify student marks\n",
      "3. Delete student details\n",
      "4. Show all student details\n",
      "5. Exit\n"
     ]
    },
    {
     "name": "stdin",
     "output_type": "stream",
     "text": [
      "Enter your choice (1/2/3/4/5):  4\n"
     ]
    },
    {
     "name": "stdout",
     "output_type": "stream",
     "text": [
      "\n",
      "All student details:\n",
      "Name: Alice, Marks: 12.0\n",
      "Name: alice, Marks: 14.0\n",
      "Name: raju, Marks: 132.0\n",
      "\n",
      "Choose an option:\n",
      "1. Add student details\n",
      "2. Modify student marks\n",
      "3. Delete student details\n",
      "4. Show all student details\n",
      "5. Exit\n"
     ]
    },
    {
     "name": "stdin",
     "output_type": "stream",
     "text": [
      "Enter your choice (1/2/3/4/5):  1\n",
      "Enter student name:  anand\n",
      "Enter marks:  12\n"
     ]
    },
    {
     "name": "stdout",
     "output_type": "stream",
     "text": [
      "New student record added.\n",
      "\n",
      "Choose an option:\n",
      "1. Add student details\n",
      "2. Modify student marks\n",
      "3. Delete student details\n",
      "4. Show all student details\n",
      "5. Exit\n"
     ]
    },
    {
     "name": "stdin",
     "output_type": "stream",
     "text": [
      "Enter your choice (1/2/3/4/5):  2\n",
      "Enter student name to update:  anand\n"
     ]
    },
    {
     "name": "stdout",
     "output_type": "stream",
     "text": [
      "Current record: ('anand', 12.0)\n"
     ]
    },
    {
     "name": "stdin",
     "output_type": "stream",
     "text": [
      "Enter new marks:  21\n"
     ]
    },
    {
     "name": "stdout",
     "output_type": "stream",
     "text": [
      "Marks updated successfully.\n",
      "\n",
      "Choose an option:\n",
      "1. Add student details\n",
      "2. Modify student marks\n",
      "3. Delete student details\n",
      "4. Show all student details\n",
      "5. Exit\n"
     ]
    },
    {
     "name": "stdin",
     "output_type": "stream",
     "text": [
      "Enter your choice (1/2/3/4/5):  4\n"
     ]
    },
    {
     "name": "stdout",
     "output_type": "stream",
     "text": [
      "\n",
      "All student details:\n",
      "Name: Alice, Marks: 12.0\n",
      "Name: alice, Marks: 14.0\n",
      "Name: raju, Marks: 132.0\n",
      "Name: anand, Marks: 21.0\n",
      "\n",
      "Choose an option:\n",
      "1. Add student details\n",
      "2. Modify student marks\n",
      "3. Delete student details\n",
      "4. Show all student details\n",
      "5. Exit\n"
     ]
    },
    {
     "name": "stdin",
     "output_type": "stream",
     "text": [
      "Enter your choice (1/2/3/4/5):  3\n",
      "Enter student name to delete:  alice\n",
      "Are you sure you want to delete alice? (yes/no):  yes\n"
     ]
    },
    {
     "name": "stdout",
     "output_type": "stream",
     "text": [
      "Record deleted successfully.\n",
      "\n",
      "Choose an option:\n",
      "1. Add student details\n",
      "2. Modify student marks\n",
      "3. Delete student details\n",
      "4. Show all student details\n",
      "5. Exit\n"
     ]
    }
   ],
   "source": [
    "import sqlite3\n",
    "\n",
    "# Connect to the database\n",
    "MySchool = sqlite3.connect('schoolweekend.db')\n",
    "curschool = MySchool.cursor()\n",
    "\n",
    "# Create the table if it doesn't exist\n",
    "curschool.execute('''\n",
    "    CREATE TABLE IF NOT EXISTS student2 (\n",
    "        name TEXT PRIMARY KEY,\n",
    "        marks REAL\n",
    "    );\n",
    "''')\n",
    "MySchool.commit()\n",
    "\n",
    "while True:\n",
    "    print(\"\\nChoose an option:\")\n",
    "    print(\"1. Add student details\")\n",
    "    print(\"2. Modify student marks\")\n",
    "    print(\"3. Delete student details\")\n",
    "    print(\"4. Show all student details\")\n",
    "    print(\"5. Exit\")\n",
    "\n",
    "    choice = input(\"Enter your choice (1/2/3/4/5): \")\n",
    "\n",
    "    if choice == '1':\n",
    "        # Add new student\n",
    "        name = input(\"Enter student name: \")\n",
    "        try:\n",
    "            marks = float(input(\"Enter marks: \"))\n",
    "            curschool.execute(\"INSERT INTO student2 (name, marks) VALUES (?, ?)\", (name, marks))\n",
    "            MySchool.commit()\n",
    "            print(\"New student record added.\")\n",
    "        except Exception as e:\n",
    "            print(\"Error adding record:\", e)\n",
    "            MySchool.rollback()\n",
    "\n",
    "    elif choice == '2':\n",
    "        # Modify existing student marks\n",
    "        name = input(\"Enter student name to update: \")\n",
    "        curschool.execute(\"SELECT * FROM student2 WHERE name = ?\", (name,))\n",
    "        record = curschool.fetchone()\n",
    "\n",
    "        if record:\n",
    "            print(\"Current record:\", record)\n",
    "            try:\n",
    "                marks = float(input(\"Enter new marks: \"))\n",
    "                curschool.execute(\"UPDATE student2 SET marks = ? WHERE name = ?\", (marks, name))\n",
    "                MySchool.commit()\n",
    "                print(\"Marks updated successfully.\")\n",
    "            except Exception as e:\n",
    "                print(\"Error updating record:\", e)\n",
    "                MySchool.rollback()\n",
    "        else:\n",
    "            print(\"No such student found.\")\n",
    "\n",
    "    elif choice == '3':\n",
    "        # Delete student record\n",
    "        name = input(\"Enter student name to delete: \")\n",
    "        curschool.execute(\"SELECT * FROM student2 WHERE name = ?\", (name,))\n",
    "        record = curschool.fetchone()\n",
    "\n",
    "        if record:\n",
    "            confirm = input(f\"Are you sure you want to delete {name}? (yes/no): \")\n",
    "            if confirm.lower() == 'yes':\n",
    "                try:\n",
    "                    curschool.execute(\"DELETE FROM student2 WHERE name = ?\", (name,))\n",
    "                    MySchool.commit()\n",
    "                    print(\"Record deleted successfully.\")\n",
    "                except Exception as e:\n",
    "                    print(\"Error deleting record:\", e)\n",
    "                    MySchool.rollback()\n",
    "            else:\n",
    "                print(\"Deletion cancelled.\")\n",
    "        else:\n",
    "            print(\"No such student found.\")\n",
    "\n",
    "    elif choice == '4':\n",
    "        # Show all student details\n",
    "        curschool.execute(\"SELECT * FROM student2\")\n",
    "        records = curschool.fetchall()\n",
    "        if records:\n",
    "            print(\"\\nAll student details:\")\n",
    "            for rec in records:\n",
    "                print(f\"Name: {rec[0]}, Marks: {rec[1]}\")\n",
    "        else:\n",
    "            print(\"No records found.\")\n",
    "\n",
    "    elif choice == '5':\n",
    "        print(\"Exiting program.\")\n",
    "        break\n",
    "\n",
    "    else:\n",
    "        print(\"Invalid choice. Please select 1, 2, 3, 4 or 5.\")\n",
    "\n",
    "# Close the connection\n",
    "MySchool.close()\n"
   ]
  },
  {
   "cell_type": "code",
   "execution_count": null,
   "id": "fec09e12-a85b-4851-be60-cfaf77cf7c2f",
   "metadata": {},
   "outputs": [],
   "source": []
  }
 ],
 "metadata": {
  "kernelspec": {
   "display_name": "Python 3 (ipykernel)",
   "language": "python",
   "name": "python3"
  },
  "language_info": {
   "codemirror_mode": {
    "name": "ipython",
    "version": 3
   },
   "file_extension": ".py",
   "mimetype": "text/x-python",
   "name": "python",
   "nbconvert_exporter": "python",
   "pygments_lexer": "ipython3",
   "version": "3.13.7"
  }
 },
 "nbformat": 4,
 "nbformat_minor": 5
}
